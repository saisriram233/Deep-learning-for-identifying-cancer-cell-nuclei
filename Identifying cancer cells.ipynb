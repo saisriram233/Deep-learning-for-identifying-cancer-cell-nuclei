{
 "cells": [
  {
   "cell_type": "markdown",
   "metadata": {},
   "source": [
    "### **Kaggle Name : Saisriram_Kasiviswanathan**\n"
   ]
  },
  {
   "cell_type": "markdown",
   "metadata": {},
   "source": [
    "\n",
    "### Identify different types of cell nuclei in a colon cancer sample"
   ]
  },
  {
   "cell_type": "markdown",
   "metadata": {},
   "source": [
    "### Import necessary packages "
   ]
  },
  {
   "cell_type": "code",
   "execution_count": 1,
   "metadata": {
    "execution": {
     "iopub.execute_input": "2021-05-23T13:33:06.398215Z",
     "iopub.status.busy": "2021-05-23T13:33:06.397740Z",
     "iopub.status.idle": "2021-05-23T13:33:14.467668Z",
     "shell.execute_reply": "2021-05-23T13:33:14.466634Z",
     "shell.execute_reply.started": "2021-05-23T13:33:06.398122Z"
    }
   },
   "outputs": [],
   "source": [
    "import os\n",
    "import torch\n",
    "import glob\n",
    "import torch.nn as nn\n",
    "import tensorflow as tf\n",
    "import numpy as np\n",
    "import cv2\n",
    "from torchvision.transforms import transforms\n",
    "from torch.utils.data import DataLoader\n",
    "from torch.optim import Adam , SGD\n",
    "from torch.autograd import Variable\n",
    "import torchvision\n",
    "import pathlib\n",
    "from skimage.io import imread\n",
    "import pandas as pd\n",
    "import matplotlib.pyplot as plt\n",
    "%matplotlib inline\n",
    "# for creating validation set\n",
    "from sklearn.model_selection import train_test_split\n",
    "from skimage.transform import resize\n",
    "# for evaluating the model\n",
    "from sklearn.metrics import accuracy_score\n",
    "from tqdm import tqdm\n",
    "\n",
    "from torch.nn import Linear, ReLU, CrossEntropyLoss, Sequential, Conv2d, MaxPool2d, Module, Softmax, BatchNorm2d, Dropout\n"
   ]
  },
  {
   "cell_type": "markdown",
   "metadata": {},
   "source": [
    "### Read the csv file for training and test/prediction dataset"
   ]
  },
  {
   "cell_type": "code",
   "execution_count": 2,
   "metadata": {
    "execution": {
     "iopub.execute_input": "2021-05-23T13:33:14.469434Z",
     "iopub.status.busy": "2021-05-23T13:33:14.469138Z",
     "iopub.status.idle": "2021-05-23T13:33:14.529800Z",
     "shell.execute_reply": "2021-05-23T13:33:14.529109Z",
     "shell.execute_reply.started": "2021-05-23T13:33:14.469404Z"
    }
   },
   "outputs": [
    {
     "data": {
      "text/html": [
       "<div>\n",
       "<style scoped>\n",
       "    .dataframe tbody tr th:only-of-type {\n",
       "        vertical-align: middle;\n",
       "    }\n",
       "\n",
       "    .dataframe tbody tr th {\n",
       "        vertical-align: top;\n",
       "    }\n",
       "\n",
       "    .dataframe thead th {\n",
       "        text-align: right;\n",
       "    }\n",
       "</style>\n",
       "<table border=\"1\" class=\"dataframe\">\n",
       "  <thead>\n",
       "    <tr style=\"text-align: right;\">\n",
       "      <th></th>\n",
       "      <th>Id</th>\n",
       "      <th>Type</th>\n",
       "    </tr>\n",
       "  </thead>\n",
       "  <tbody>\n",
       "    <tr>\n",
       "      <th>0</th>\n",
       "      <td>1</td>\n",
       "      <td>Connective</td>\n",
       "    </tr>\n",
       "    <tr>\n",
       "      <th>1</th>\n",
       "      <td>2</td>\n",
       "      <td>Connective</td>\n",
       "    </tr>\n",
       "    <tr>\n",
       "      <th>2</th>\n",
       "      <td>3</td>\n",
       "      <td>Connective</td>\n",
       "    </tr>\n",
       "    <tr>\n",
       "      <th>3</th>\n",
       "      <td>4</td>\n",
       "      <td>Connective</td>\n",
       "    </tr>\n",
       "    <tr>\n",
       "      <th>4</th>\n",
       "      <td>5</td>\n",
       "      <td>Connective</td>\n",
       "    </tr>\n",
       "  </tbody>\n",
       "</table>\n",
       "</div>"
      ],
      "text/plain": [
       "   Id        Type\n",
       "0   1  Connective\n",
       "1   2  Connective\n",
       "2   3  Connective\n",
       "3   4  Connective\n",
       "4   5  Connective"
      ]
     },
     "execution_count": 2,
     "metadata": {},
     "output_type": "execute_result"
    }
   ],
   "source": [
    "train = pd.read_csv('/kaggle/input/deep-learning-for-msc-coursework-2021/train.csv')\n",
    "test = pd.read_csv('/kaggle/input/deep-learning-for-msc-coursework-2021/example.csv')\n",
    "sample_submission = pd.read_csv('/kaggle/input/deep-learning-for-msc-coursework-2021/example.csv')\n",
    "train.head()"
   ]
  },
  {
   "cell_type": "markdown",
   "metadata": {},
   "source": [
    "### Load the training images and resize it"
   ]
  },
  {
   "cell_type": "code",
   "execution_count": 3,
   "metadata": {
    "execution": {
     "iopub.execute_input": "2021-05-23T13:33:17.731283Z",
     "iopub.status.busy": "2021-05-23T13:33:17.730769Z",
     "iopub.status.idle": "2021-05-23T13:34:18.797599Z",
     "shell.execute_reply": "2021-05-23T13:34:18.796644Z",
     "shell.execute_reply.started": "2021-05-23T13:33:17.731235Z"
    }
   },
   "outputs": [
    {
     "name": "stderr",
     "output_type": "stream",
     "text": [
      "100%|██████████| 2190/2190 [01:00<00:00, 36.20it/s]\n"
     ]
    },
    {
     "data": {
      "text/plain": [
       "(2190, 224, 224, 3)"
      ]
     },
     "execution_count": 3,
     "metadata": {},
     "output_type": "execute_result"
    }
   ],
   "source": [
    "# loading training images\n",
    "train_img = []\n",
    "for img_name in tqdm(train['Id']):\n",
    "    # Image path\n",
    "    image_path = '/kaggle/input/deep-learning-for-msc-coursework-2021/train/train/' + str(img_name) + '.png'\n",
    "     # reading image\n",
    "    img = imread(image_path)\n",
    "    # normalizing pixel values\n",
    "    img = img/255\n",
    "    # resizing the image to (224,224,3)\n",
    "    img = resize(img, output_shape=(224,224,3), mode='constant', anti_aliasing=True)\n",
    "    # converting the type of pixel to float 32\n",
    "    img = img.astype('float32')\n",
    "    # appending the image into the list\n",
    "    train_img.append(img)\n",
    "\n",
    "# converting the list to numpy array\n",
    "train_x = np.array(train_img)\n",
    "# defining the target\n",
    "train_yy = train['Type'].values\n",
    "train_x.shape\n",
    "\n"
   ]
  },
  {
   "cell_type": "markdown",
   "metadata": {},
   "source": [
    "### Label the Types with number since we can use numbers only"
   ]
  },
  {
   "cell_type": "code",
   "execution_count": 4,
   "metadata": {
    "execution": {
     "iopub.execute_input": "2021-05-23T13:34:54.228323Z",
     "iopub.status.busy": "2021-05-23T13:34:54.227949Z",
     "iopub.status.idle": "2021-05-23T13:34:54.234782Z",
     "shell.execute_reply": "2021-05-23T13:34:54.233653Z",
     "shell.execute_reply.started": "2021-05-23T13:34:54.228288Z"
    }
   },
   "outputs": [],
   "source": [
    "#labels = ['Cancer' , 'Connective', 'Immune','Normal']\n",
    "\n",
    "a = {'Cancer' : 0 , 'Connective': 1 , 'Immune': 2 ,'Normal':3 }\n",
    "\n",
    "arr = []\n",
    "for i in train_yy:\n",
    "   arr.append(a[i]) \n",
    "train_y = np.asarray(arr)\n"
   ]
  },
  {
   "cell_type": "markdown",
   "metadata": {},
   "source": [
    "### Split the training set into training and validation set "
   ]
  },
  {
   "cell_type": "code",
   "execution_count": 5,
   "metadata": {
    "execution": {
     "iopub.execute_input": "2021-05-23T13:34:55.926114Z",
     "iopub.status.busy": "2021-05-23T13:34:55.925758Z",
     "iopub.status.idle": "2021-05-23T13:34:56.457018Z",
     "shell.execute_reply": "2021-05-23T13:34:56.456090Z",
     "shell.execute_reply.started": "2021-05-23T13:34:55.926084Z"
    }
   },
   "outputs": [
    {
     "data": {
      "text/plain": [
       "(((2080, 224, 224, 3), (2080,)), ((110, 224, 224, 3), (110,)))"
      ]
     },
     "execution_count": 5,
     "metadata": {},
     "output_type": "execute_result"
    }
   ],
   "source": [
    "train_x, val_x, train_y, val_y = train_test_split(train_x, train_y, test_size = 0.05)\n",
    "(train_x.shape, train_y.shape), (val_x.shape, val_y.shape)"
   ]
  },
  {
   "cell_type": "markdown",
   "metadata": {},
   "source": [
    "### Reshape and convert it into tensor format for both train and validate"
   ]
  },
  {
   "cell_type": "code",
   "execution_count": 6,
   "metadata": {
    "execution": {
     "iopub.execute_input": "2021-05-23T13:34:57.718312Z",
     "iopub.status.busy": "2021-05-23T13:34:57.717916Z",
     "iopub.status.idle": "2021-05-23T13:34:57.731115Z",
     "shell.execute_reply": "2021-05-23T13:34:57.730202Z",
     "shell.execute_reply.started": "2021-05-23T13:34:57.718277Z"
    }
   },
   "outputs": [
    {
     "data": {
      "text/plain": [
       "(torch.Size([2080, 3, 224, 224]), torch.Size([2080]))"
      ]
     },
     "execution_count": 6,
     "metadata": {},
     "output_type": "execute_result"
    }
   ],
   "source": [
    "train_x = train_x.reshape(2080, 3, 224, 224)\n",
    "train_x  = torch.from_numpy(train_x)\n",
    "\n",
    "# converting the target into torch format\n",
    "train_y = train_y.astype(int)\n",
    "train_y = torch.from_numpy(train_y)\n",
    "\n",
    "# shape of training data\n",
    "train_x.shape, train_y.shape"
   ]
  },
  {
   "cell_type": "code",
   "execution_count": 7,
   "metadata": {
    "execution": {
     "iopub.execute_input": "2021-05-23T13:34:59.364344Z",
     "iopub.status.busy": "2021-05-23T13:34:59.363988Z",
     "iopub.status.idle": "2021-05-23T13:34:59.371471Z",
     "shell.execute_reply": "2021-05-23T13:34:59.370435Z",
     "shell.execute_reply.started": "2021-05-23T13:34:59.364313Z"
    }
   },
   "outputs": [
    {
     "data": {
      "text/plain": [
       "(torch.Size([110, 3, 224, 224]), torch.Size([110]))"
      ]
     },
     "execution_count": 7,
     "metadata": {},
     "output_type": "execute_result"
    }
   ],
   "source": [
    "val_x = val_x.reshape(110, 3,224,224)\n",
    "val_x  = torch.from_numpy(val_x)\n",
    "\n",
    "# converting the target into torch format\n",
    "val_y = val_y.astype(int)\n",
    "val_y = torch.from_numpy(val_y)\n",
    "\n",
    "# shape of validation data\n",
    "val_x.shape, val_y.shape"
   ]
  },
  {
   "cell_type": "markdown",
   "metadata": {},
   "source": [
    "### Create CNN "
   ]
  },
  {
   "cell_type": "code",
   "execution_count": 8,
   "metadata": {
    "execution": {
     "iopub.execute_input": "2021-05-23T13:35:01.346000Z",
     "iopub.status.busy": "2021-05-23T13:35:01.345662Z",
     "iopub.status.idle": "2021-05-23T13:35:01.356857Z",
     "shell.execute_reply": "2021-05-23T13:35:01.356125Z",
     "shell.execute_reply.started": "2021-05-23T13:35:01.345970Z"
    }
   },
   "outputs": [],
   "source": [
    "class Net(Module):   \n",
    "    def __init__(self):\n",
    "        super(Net, self).__init__()\n",
    "\n",
    "        self.cnn_layers = Sequential(\n",
    "            # Defining a 2D convolution layer\n",
    "            Conv2d(3, 32, kernel_size=3, stride=1, padding=1),\n",
    "            ReLU(inplace=True),\n",
    "            AvgPool2d(3, stride=2)\n",
    "            MaxPool2d(kernel_size=2, stride=2),\n",
    "            # Defining another 2D convolution layer\n",
    "            Conv2d(32,16, kernel_size=3, stride=1, padding=1),\n",
    "            BatchNorm2d(16),\n",
    "            ReLU(inplace=True),\n",
    "            MaxPool2d(kernel_size=2, stride=2),\n",
    "            # Defining another 2D convolution layer\n",
    "            Conv2d(16, 8, kernel_size=3, stride=1, padding=1),\n",
    "            BatchNorm2d(8),\n",
    "            ReLU(inplace=True),\n",
    "            MaxPool2d(kernel_size=2, stride=2),\n",
    "            # Defining another 2D convolution layer\n",
    "            Conv2d(8, 2, kernel_size=3, stride=1, padding=1),\n",
    "            BatchNorm2d(2),\n",
    "            ReLU(inplace=True),\n",
    "            MaxPool2d(kernel_size=2, stride=2),\n",
    "        )\n",
    "        \n",
    "\n",
    "        \n",
    "\n",
    "        self.linear_layers = Sequential(\n",
    "            Linear( 196,4)\n",
    "        )\n",
    "\n",
    "    # Defining the forward pass    \n",
    "    def forward(self, x):\n",
    "        x = self.cnn_layers(x)\n",
    "        x = x.view(x.size(0), -1)\n",
    "        x = self.linear_layers(x)\n",
    "        return x\n",
    "    "
   ]
  },
  {
   "cell_type": "markdown",
   "metadata": {},
   "source": [
    "### Define model and optimizer"
   ]
  },
  {
   "cell_type": "code",
   "execution_count": 9,
   "metadata": {
    "execution": {
     "iopub.execute_input": "2021-05-23T13:35:03.256829Z",
     "iopub.status.busy": "2021-05-23T13:35:03.256322Z",
     "iopub.status.idle": "2021-05-23T13:35:03.296911Z",
     "shell.execute_reply": "2021-05-23T13:35:03.296019Z",
     "shell.execute_reply.started": "2021-05-23T13:35:03.256797Z"
    }
   },
   "outputs": [
    {
     "name": "stdout",
     "output_type": "stream",
     "text": [
      "Net(\n",
      "  (cnn_layers): Sequential(\n",
      "    (0): Conv2d(3, 4, kernel_size=(3, 3), stride=(1, 1), padding=(1, 1))\n",
      "    (1): BatchNorm2d(4, eps=1e-05, momentum=0.1, affine=True, track_running_stats=True)\n",
      "    (2): ReLU(inplace=True)\n",
      "    (3): MaxPool2d(kernel_size=2, stride=2, padding=0, dilation=1, ceil_mode=False)\n",
      "    (4): Conv2d(4, 4, kernel_size=(3, 3), stride=(1, 1), padding=(1, 1))\n",
      "    (5): BatchNorm2d(4, eps=1e-05, momentum=0.1, affine=True, track_running_stats=True)\n",
      "    (6): ReLU(inplace=True)\n",
      "    (7): MaxPool2d(kernel_size=2, stride=2, padding=0, dilation=1, ceil_mode=False)\n",
      "    (8): Conv2d(4, 8, kernel_size=(3, 3), stride=(1, 1), padding=(1, 1))\n",
      "    (9): BatchNorm2d(8, eps=1e-05, momentum=0.1, affine=True, track_running_stats=True)\n",
      "    (10): ReLU(inplace=True)\n",
      "    (11): MaxPool2d(kernel_size=2, stride=2, padding=0, dilation=1, ceil_mode=False)\n",
      "    (12): Conv2d(8, 8, kernel_size=(3, 3), stride=(1, 1), padding=(1, 1))\n",
      "    (13): BatchNorm2d(8, eps=1e-05, momentum=0.1, affine=True, track_running_stats=True)\n",
      "    (14): ReLU(inplace=True)\n",
      "    (15): MaxPool2d(kernel_size=2, stride=2, padding=0, dilation=1, ceil_mode=False)\n",
      "    (16): Conv2d(8, 4, kernel_size=(3, 3), stride=(1, 1), padding=(1, 1))\n",
      "    (17): BatchNorm2d(4, eps=1e-05, momentum=0.1, affine=True, track_running_stats=True)\n",
      "    (18): ReLU(inplace=True)\n",
      "    (19): MaxPool2d(kernel_size=2, stride=2, padding=0, dilation=1, ceil_mode=False)\n",
      "  )\n",
      "  (linear_layers): Sequential(\n",
      "    (0): Linear(in_features=196, out_features=4, bias=True)\n",
      "  )\n",
      ")\n"
     ]
    }
   ],
   "source": [
    "\n",
    "model = Net()\n",
    "# defining the optimizer\n",
    "optimizer = Adam(model.parameters(), lr=0.01)\n",
    "\n",
    "# defining the loss function\n",
    "criterion = CrossEntropyLoss()\n",
    "# checking if GPU is available\n",
    "\n",
    "    \n",
    "print(model)\n"
   ]
  },
  {
   "cell_type": "code",
   "execution_count": 10,
   "metadata": {
    "execution": {
     "iopub.execute_input": "2021-05-23T13:35:04.170954Z",
     "iopub.status.busy": "2021-05-23T13:35:04.170619Z",
     "iopub.status.idle": "2021-05-23T13:35:04.178831Z",
     "shell.execute_reply": "2021-05-23T13:35:04.177416Z",
     "shell.execute_reply.started": "2021-05-23T13:35:04.170924Z"
    }
   },
   "outputs": [],
   "source": [
    "\n",
    "\n",
    "def train(epoch):\n",
    "    model.train()\n",
    "    tr_loss = 0\n",
    "    # getting the training set\n",
    "    x_train, y_train = Variable(train_x), Variable(train_y)\n",
    "    # getting the validation set\n",
    "    x_val, y_val = Variable(val_x), Variable(val_y)\n",
    "\n",
    "\n",
    "    # clearing the Gradients of the model parameters\n",
    "    optimizer.zero_grad()\n",
    "    \n",
    "    # prediction for training and validation set\n",
    "    output_train = model(x_train)\n",
    "    output_train = output_train\n",
    "    output_val = model(x_val)\n",
    "    output_val = output_val\n",
    "\n",
    "    # computing the training and validation loss\n",
    "    loss_train = criterion(output_train, y_train.long())\n",
    "    loss_val = criterion(output_val, y_val.long())\n",
    "    train_losses.append(loss_train)\n",
    "    val_losses.append(loss_val)\n",
    "\n",
    "    # computing the updated weights of all the model parameters\n",
    "    loss_train.backward()\n",
    "    optimizer.step()\n",
    "    tr_loss = loss_train.item()\n",
    "    if epoch%2 == 0:\n",
    "        # printing the validation loss\n",
    "        print('Epoch : ',epoch+3, '\\t', 'loss :', loss_val)"
   ]
  },
  {
   "cell_type": "code",
   "execution_count": 11,
   "metadata": {
    "execution": {
     "iopub.execute_input": "2021-05-23T13:35:11.959997Z",
     "iopub.status.busy": "2021-05-23T13:35:11.959528Z",
     "iopub.status.idle": "2021-05-23T13:39:54.750319Z",
     "shell.execute_reply": "2021-05-23T13:39:54.749196Z",
     "shell.execute_reply.started": "2021-05-23T13:35:11.959966Z"
    }
   },
   "outputs": [
    {
     "name": "stdout",
     "output_type": "stream",
     "text": [
      "Epoch :  3 \t loss : tensor(1.4061, grad_fn=<NllLossBackward>)\n",
      "Epoch :  5 \t loss : tensor(1.0614, grad_fn=<NllLossBackward>)\n",
      "Epoch :  7 \t loss : tensor(0.9810, grad_fn=<NllLossBackward>)\n",
      "Epoch :  9 \t loss : tensor(0.9518, grad_fn=<NllLossBackward>)\n",
      "Epoch :  11 \t loss : tensor(0.9324, grad_fn=<NllLossBackward>)\n",
      "Epoch :  13 \t loss : tensor(0.8968, grad_fn=<NllLossBackward>)\n",
      "Epoch :  15 \t loss : tensor(0.8960, grad_fn=<NllLossBackward>)\n",
      "Epoch :  17 \t loss : tensor(0.8757, grad_fn=<NllLossBackward>)\n"
     ]
    }
   ],
   "source": [
    "\n",
    "\n",
    "n_epochs = 15\n",
    "# empty list to store training losses\n",
    "train_losses = []\n",
    "# empty list to store validation losses\n",
    "val_losses = []\n",
    "# training the model\n",
    "for epoch in range(n_epochs):\n",
    "    train(epoch)"
   ]
  },
  {
   "cell_type": "markdown",
   "metadata": {
    "execution": {
     "iopub.execute_input": "2021-05-21T23:51:06.874901Z",
     "iopub.status.busy": "2021-05-21T23:51:06.874494Z",
     "iopub.status.idle": "2021-05-21T23:51:07.502561Z",
     "shell.execute_reply": "2021-05-21T23:51:07.501594Z",
     "shell.execute_reply.started": "2021-05-21T23:51:06.874862Z"
    }
   },
   "source": [
    "##### "
   ]
  },
  {
   "cell_type": "code",
   "execution_count": 12,
   "metadata": {
    "execution": {
     "iopub.execute_input": "2021-05-23T13:48:12.103128Z",
     "iopub.status.busy": "2021-05-23T13:48:12.102683Z",
     "iopub.status.idle": "2021-05-23T13:48:12.315374Z",
     "shell.execute_reply": "2021-05-23T13:48:12.314308Z",
     "shell.execute_reply.started": "2021-05-23T13:48:12.103088Z"
    }
   },
   "outputs": [
    {
     "data": {
      "image/png": "[encoded data removed]",
      "text/plain": [
       "<Figure size 432x288 with 1 Axes>"
      ]
     },
     "metadata": {
      "needs_background": "light"
     },
     "output_type": "display_data"
    }
   ],
   "source": [
    "plt.plot(train_losses, label='Training loss')\n",
    "plt.plot(val_losses, label='Validation loss')\n",
    "plt.legend()\n",
    "plt.show()"
   ]
  },
  {
   "cell_type": "markdown",
   "metadata": {},
   "source": [
    "### Check training set accuracy"
   ]
  },
  {
   "cell_type": "code",
   "execution_count": 13,
   "metadata": {
    "execution": {
     "iopub.execute_input": "2021-05-23T13:48:15.704106Z",
     "iopub.status.busy": "2021-05-23T13:48:15.703692Z",
     "iopub.status.idle": "2021-05-23T13:48:23.728114Z",
     "shell.execute_reply": "2021-05-23T13:48:23.727086Z",
     "shell.execute_reply.started": "2021-05-23T13:48:15.704070Z"
    }
   },
   "outputs": [
    {
     "data": {
      "text/plain": [
       "0.6461538461538462"
      ]
     },
     "execution_count": 13,
     "metadata": {},
     "output_type": "execute_result"
    }
   ],
   "source": [
    "with torch.no_grad():\n",
    "    output = model(train_x)\n",
    "    \n",
    "softmax = torch.exp(output).cpu()\n",
    "prob = list(softmax.numpy())\n",
    "predictions = np.argmax(prob, axis=1)\n",
    "\n",
    "# accuracy on training set\n",
    "accuracy_score(train_y, predictions)"
   ]
  },
  {
   "cell_type": "markdown",
   "metadata": {},
   "source": [
    "### Check validation set accuracy"
   ]
  },
  {
   "cell_type": "code",
   "execution_count": 14,
   "metadata": {
    "execution": {
     "iopub.execute_input": "2021-05-23T13:48:26.617672Z",
     "iopub.status.busy": "2021-05-23T13:48:26.617312Z",
     "iopub.status.idle": "2021-05-23T13:48:27.030774Z",
     "shell.execute_reply": "2021-05-23T13:48:27.029850Z",
     "shell.execute_reply.started": "2021-05-23T13:48:26.617641Z"
    }
   },
   "outputs": [
    {
     "data": {
      "text/plain": [
       "0.6818181818181818"
      ]
     },
     "execution_count": 14,
     "metadata": {},
     "output_type": "execute_result"
    }
   ],
   "source": [
    "with torch.no_grad():\n",
    "    output = model(val_x)\n",
    "\n",
    "softmax = torch.exp(output).cpu()\n",
    "prob = list(softmax.numpy())\n",
    "predictions = np.argmax(prob, axis=1)\n",
    "\n",
    "# accuracy on validation set\n",
    "accuracy_score(val_y, predictions)"
   ]
  },
  {
   "cell_type": "markdown",
   "metadata": {},
   "source": [
    "### Load testing images"
   ]
  },
  {
   "cell_type": "code",
   "execution_count": 15,
   "metadata": {
    "execution": {
     "iopub.execute_input": "2021-05-23T13:48:29.917752Z",
     "iopub.status.busy": "2021-05-23T13:48:29.917388Z",
     "iopub.status.idle": "2021-05-23T13:48:40.068813Z",
     "shell.execute_reply": "2021-05-23T13:48:40.068139Z",
     "shell.execute_reply.started": "2021-05-23T13:48:29.917720Z"
    }
   },
   "outputs": [
    {
     "name": "stderr",
     "output_type": "stream",
     "text": [
      "100%|██████████| 400/400 [00:10<00:00, 39.84it/s]\n"
     ]
    },
    {
     "data": {
      "text/plain": [
       "(400, 224, 224, 3)"
      ]
     },
     "execution_count": 15,
     "metadata": {},
     "output_type": "execute_result"
    }
   ],
   "source": [
    "# loading testing images\n",
    "test_img = []\n",
    "for img_name in tqdm(test['Id']):\n",
    "    # defining the image path\n",
    "    image_path = '/kaggle/input/deep-learning-for-msc-coursework-2021/test/test/' + str(img_name) + '.png'\n",
    "   # reading the image\n",
    "    # reading the image\n",
    "    img = imread(image_path)\n",
    "    # normalizing the pixel values\n",
    "    img = img/255\n",
    "    # resizing the image to (224,224,3)\n",
    "    img = resize(img, output_shape=(224,224,3), mode='constant', anti_aliasing=True)\n",
    "    # converting the type of pixel to float 32\n",
    "    img = img.astype('float32')\n",
    "    # appending the image into the list\n",
    "    test_img.append(img)\n",
    "\n",
    "# converting the list to numpy array\n",
    "test_x = np.array(test_img)\n",
    "\n"
   ]
  },
  {
   "cell_type": "code",
   "execution_count": 16,
   "metadata": {
    "execution": {
     "iopub.execute_input": "2021-05-23T13:48:45.072961Z",
     "iopub.status.busy": "2021-05-23T13:48:45.072589Z",
     "iopub.status.idle": "2021-05-23T13:48:45.079433Z",
     "shell.execute_reply": "2021-05-23T13:48:45.078497Z",
     "shell.execute_reply.started": "2021-05-23T13:48:45.072925Z"
    }
   },
   "outputs": [
    {
     "data": {
      "text/plain": [
       "torch.Size([400, 3, 224, 224])"
      ]
     },
     "execution_count": 16,
     "metadata": {},
     "output_type": "execute_result"
    }
   ],
   "source": [
    "test_x = test_x.reshape(400, 3, 224, 224)\n",
    "test_x  = torch.from_numpy(test_x)\n",
    "test_x.shape"
   ]
  },
  {
   "cell_type": "markdown",
   "metadata": {},
   "source": [
    "### Make predictions"
   ]
  },
  {
   "cell_type": "code",
   "execution_count": 19,
   "metadata": {
    "execution": {
     "iopub.execute_input": "2021-05-23T13:52:13.797953Z",
     "iopub.status.busy": "2021-05-23T13:52:13.797571Z",
     "iopub.status.idle": "2021-05-23T13:52:15.312626Z",
     "shell.execute_reply": "2021-05-23T13:52:15.311686Z",
     "shell.execute_reply.started": "2021-05-23T13:52:13.797916Z"
    }
   },
   "outputs": [],
   "source": [
    "with torch.no_grad():\n",
    "    output = model(test_x)\n",
    "\n",
    "softmax = torch.exp(output).cpu()\n",
    "prob = list(softmax.numpy())\n",
    "predictions = np.argmax(prob, axis=1)\n",
    "b = {0:'Cancer', 1:'Connective' , 2:'Immune' ,3:'Normal'}\n",
    "arrt = []\n",
    "for i in predictions:\n",
    "    arrt.append(b[i])\n",
    "abc = np.asarray(arrt)\n"
   ]
  },
  {
   "cell_type": "markdown",
   "metadata": {},
   "source": [
    "### Write predictions in csv file and save it"
   ]
  },
  {
   "cell_type": "code",
   "execution_count": 21,
   "metadata": {
    "execution": {
     "iopub.execute_input": "2021-05-23T13:54:30.815834Z",
     "iopub.status.busy": "2021-05-23T13:54:30.815343Z",
     "iopub.status.idle": "2021-05-23T13:54:30.832985Z",
     "shell.execute_reply": "2021-05-23T13:54:30.831925Z",
     "shell.execute_reply.started": "2021-05-23T13:54:30.815790Z"
    }
   },
   "outputs": [
    {
     "data": {
      "text/html": [
       "<div>\n",
       "<style scoped>\n",
       "    .dataframe tbody tr th:only-of-type {\n",
       "        vertical-align: middle;\n",
       "    }\n",
       "\n",
       "    .dataframe tbody tr th {\n",
       "        vertical-align: top;\n",
       "    }\n",
       "\n",
       "    .dataframe thead th {\n",
       "        text-align: right;\n",
       "    }\n",
       "</style>\n",
       "<table border=\"1\" class=\"dataframe\">\n",
       "  <thead>\n",
       "    <tr style=\"text-align: right;\">\n",
       "      <th></th>\n",
       "      <th>Id</th>\n",
       "      <th>Type</th>\n",
       "    </tr>\n",
       "  </thead>\n",
       "  <tbody>\n",
       "    <tr>\n",
       "      <th>0</th>\n",
       "      <td>10001</td>\n",
       "      <td>Cancer</td>\n",
       "    </tr>\n",
       "    <tr>\n",
       "      <th>1</th>\n",
       "      <td>10002</td>\n",
       "      <td>Connective</td>\n",
       "    </tr>\n",
       "    <tr>\n",
       "      <th>2</th>\n",
       "      <td>10003</td>\n",
       "      <td>Immune</td>\n",
       "    </tr>\n",
       "    <tr>\n",
       "      <th>3</th>\n",
       "      <td>10004</td>\n",
       "      <td>Immune</td>\n",
       "    </tr>\n",
       "    <tr>\n",
       "      <th>4</th>\n",
       "      <td>10005</td>\n",
       "      <td>Connective</td>\n",
       "    </tr>\n",
       "  </tbody>\n",
       "</table>\n",
       "</div>"
      ],
      "text/plain": [
       "      Id        Type\n",
       "0  10001      Cancer\n",
       "1  10002  Connective\n",
       "2  10003      Immune\n",
       "3  10004      Immune\n",
       "4  10005  Connective"
      ]
     },
     "execution_count": 21,
     "metadata": {},
     "output_type": "execute_result"
    }
   ],
   "source": [
    "sample_submission['Type'] = abc\n",
    "\n",
    "sample_submission.to_csv('submission.csv', index=False)\n",
    "sample_submission.head()\n"
   ]
  },
  {
   "cell_type": "code",
   "execution_count": null,
   "metadata": {},
   "outputs": [],
   "source": []
  },
  {
   "cell_type": "code",
   "execution_count": null,
   "metadata": {},
   "outputs": [],
   "source": []
  }
 ],
 "metadata": {
  "kernelspec": {
   "display_name": "Python 3",
   "language": "python",
   "name": "python3"
  },
  "language_info": {
   "codemirror_mode": {
    "name": "ipython",
    "version": 3
   },
   "file_extension": ".py",
   "mimetype": "text/x-python",
   "name": "python",
   "nbconvert_exporter": "python",
   "pygments_lexer": "ipython3",
   "version": "3.7.6"
  }
 },
 "nbformat": 4,
 "nbformat_minor": 4
}
